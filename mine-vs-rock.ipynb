import numpy as np
import pandas as pd
from sklearn.model_selection import train_test_split
from sklearn.linear_model import LogisticRegression
from sklearn.metrics import accuracy_score

##Data Collection and Data processing


#Converting csv data to pandas dataframe
sonar_data = pd.read_csv("/Copy of sonar data.csv",header=None)

sonar_data.head()

#number of rows and columns
sonar_data.shape

#statistical measures of the data
sonar_data.describe()

sonar_data[60].value_counts()

sonar_data.groupby(60).mean()

#Separating Data and Labels
x = sonar_data.drop(columns=60,axis=1) #dropping a column -> axis =1 
y = sonar_data[60]
print(x)
print(y)

#Train Test Split

x_train,x_test,y_train,y_test = train_test_split(x,y,test_size=0.1,stratify=y,random_state=1)

print(x.shape,x_train.shape,x_test.shape)

##Model Training -> Logistic Regression

model = LogisticRegression()

#Training Logistic regression model with Training data
model.fit(x_train,y_train)

#Model Evaluation

#accuracy on training data
x_train_prediction = model.predict(x_train)
training_data_accuracy = accuracy_score(x_train_prediction,y_train)
print("The accuracy on training data is",training_data_accuracy)

#Accuracy on test data
x_test_prediction = model.predict(x_test)
test_data_accuracy = accuracy_score(x_test_prediction,y_test)
print("The accuracy on Test data is",test_data_accuracy)

#Making a predictive system

input_data=(0.0286,0.0453,0.0277,0.0174,0.0384,0.0990,0.1201,0.1833,0.2105,0.3039,0.2988,0.4250,0.6343,0.8198,1.0000,0.9988,0.9508,0.9025,0.7234,0.5122,0.2074,0.3985,0.5890,0.2872,0.2043,0.5782,0.5389,0.3750,0.3411,0.5067,0.5580,0.4778,0.3299,0.2198,0.1407,0.2856,0.3807,0.4158,0.4054,0.3296,0.2707,0.2650,0.0723,0.1238,0.1192,0.1089,0.0623,0.0494,0.0264,0.0081,0.0104,0.0045,0.0014,0.0038,0.0013,0.0089,0.0057,0.0027,0.0051,0.0062)

#changing the input data to numpy array
input_data_as_numpy_array = np.asarray(input_data)

#Reshape the numpy array as we are predicting for one instance
input_data_reshaped = input_data_as_numpy_array.reshape(1,-1)

prediction = model.predict(input_data_reshaped)

if prediction[0] == 'R':
  print("Rock")
else:
  print("Mine")

